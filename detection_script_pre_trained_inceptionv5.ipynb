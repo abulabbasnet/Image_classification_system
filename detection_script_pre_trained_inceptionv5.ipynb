{
 "cells": [
  {
   "cell_type": "code",
   "execution_count": 1,
   "id": "4622699d",
   "metadata": {},
   "outputs": [],
   "source": [
    "#import necessary libraries\n",
    "from tensorflow.keras.preprocessing.image import ImageDataGenerator\n",
    "import tensorflow as tf\n",
    "import tensorflow_hub as hub\n",
    "import os\n",
    "import numpy as np\n",
    "import matplotlib.pyplot as plt\n",
    "import seaborn as sns\n",
    "from sklearn.metrics import confusion_matrix\n",
    "from sklearn.metrics import classification_report"
   ]
  },
  {
   "cell_type": "code",
   "execution_count": 2,
   "id": "54a1bf22",
   "metadata": {},
   "outputs": [],
   "source": [
    "# ImageDataGenerator is used for image augmentation and rescaling\n",
    "\n",
    "train_datagen = ImageDataGenerator(\n",
    "                rescale=1/255.0,\n",
    "                rotation_range=35,\n",
    "                width_shift_range=0.2,\n",
    "                height_shift_range=0.2,\n",
    "                shear_range=0.2,\n",
    "                zoom_range=0.2,\n",
    "                horizontal_flip=True,\n",
    "                fill_mode='nearest',\n",
    "                #validation_split=0.2\n",
    "                )\n",
    "\n",
    "test_datagen = ImageDataGenerator(rescale=1/255.0, \n",
    "                                  #validation_split=0.2\n",
    "                                  )"
   ]
  },
  {
   "cell_type": "code",
   "execution_count": 3,
   "id": "9a2f8d4c",
   "metadata": {},
   "outputs": [],
   "source": [
    "#Resize Image\n",
    "\n",
    "img_width = 224\n",
    "img_height = 224"
   ]
  },
  {
   "cell_type": "code",
   "execution_count": 4,
   "id": "ca334c7d",
   "metadata": {},
   "outputs": [
    {
     "name": "stdout",
     "output_type": "stream",
     "text": [
      "Found 7470 images belonging to 3 classes.\n"
     ]
    }
   ],
   "source": [
    "#Read training data using flow_from_directory\n",
    "\n",
    "train_data_generator = train_datagen.flow_from_directory(directory=r'C:\\Users\\Hello\\Desktop\\Image_Manipulation_Detection\\data\\data\\traindev',\n",
    "                                                   target_size = (img_width, img_height),\n",
    "                                                   class_mode = 'categorical',\n",
    "                                                   batch_size = 16,\n",
    "                                                   #subset = 'training'\n",
    "                                                   )"
   ]
  },
  {
   "cell_type": "code",
   "execution_count": 5,
   "id": "75d0b62f",
   "metadata": {},
   "outputs": [
    {
     "name": "stdout",
     "output_type": "stream",
     "text": [
      "Found 830 images belonging to 3 classes.\n"
     ]
    }
   ],
   "source": [
    "#Read test data using flow_from_directory\n",
    "\n",
    "validation_data_generator = test_datagen.flow_from_directory(directory=r'C:\\Users\\Hello\\Desktop\\Image_Manipulation_Detection\\data\\data\\test',\n",
    "                                                   target_size = (img_width, img_height),\n",
    "                                                   class_mode = 'categorical',\n",
    "                                                   batch_size = 16,\n",
    "                                                   shuffle=False,\n",
    "                                                   #subset = 'validation'\n",
    "                                                   )"
   ]
  },
  {
   "cell_type": "code",
   "execution_count": 6,
   "id": "42674bfd",
   "metadata": {},
   "outputs": [],
   "source": [
    "# Setup input shape to the model\n",
    "INPUT_SHAPE = [None, img_width, img_height, 3] # batch, height, width, colour channels\n",
    "\n",
    "# Setup output shape of the model\n",
    "OUTPUT_SHAPE = 3 # number of unique labels\n",
    "\n",
    "# Setup model URL from TensorFlow Hub\n",
    "MODEL_URL = \"https://tfhub.dev/google/imagenet/inception_v3/classification/5\""
   ]
  },
  {
   "cell_type": "code",
   "execution_count": 7,
   "id": "555493fa",
   "metadata": {},
   "outputs": [],
   "source": [
    "# Create a function which builds a Keras model\n",
    "def create_model(input_shape=INPUT_SHAPE, output_shape=OUTPUT_SHAPE, model_url=MODEL_URL):\n",
    "  print(\"Building model with:\", MODEL_URL)\n",
    "\n",
    "  # Setup the model layers\n",
    "  model = tf.keras.Sequential([\n",
    "    hub.KerasLayer(MODEL_URL), # Layer 1 (input layer)\n",
    "    tf.keras.layers.Dense(units=OUTPUT_SHAPE,\n",
    "                          activation=\"softmax\") # Layer 2 (output layer)\n",
    "  ])\n",
    "\n",
    "  # Compile the model\n",
    "  model.compile(\n",
    "      loss=tf.keras.losses.CategoricalCrossentropy(), \n",
    "      optimizer=tf.keras.optimizers.Adam(), \n",
    "      metrics=[\"accuracy\"] \n",
    "  )\n",
    "\n",
    "  # Build the model\n",
    "  model.build(INPUT_SHAPE) \n",
    "\n",
    "  return model"
   ]
  },
  {
   "cell_type": "code",
   "execution_count": 8,
   "id": "5908097d",
   "metadata": {},
   "outputs": [
    {
     "name": "stdout",
     "output_type": "stream",
     "text": [
      "Building model with: https://tfhub.dev/google/imagenet/inception_v3/classification/5\n",
      "WARNING:tensorflow:From C:\\Users\\Hello\\miniconda3\\envs\\ml_work\\lib\\site-packages\\tensorflow_core\\python\\ops\\resource_variable_ops.py:1781: calling BaseResourceVariable.__init__ (from tensorflow.python.ops.resource_variable_ops) with constraint is deprecated and will be removed in a future version.\n",
      "Instructions for updating:\n",
      "If using Keras pass *_constraint arguments to layers.\n"
     ]
    },
    {
     "name": "stderr",
     "output_type": "stream",
     "text": [
      "WARNING:tensorflow:From C:\\Users\\Hello\\miniconda3\\envs\\ml_work\\lib\\site-packages\\tensorflow_core\\python\\ops\\resource_variable_ops.py:1781: calling BaseResourceVariable.__init__ (from tensorflow.python.ops.resource_variable_ops) with constraint is deprecated and will be removed in a future version.\n",
      "Instructions for updating:\n",
      "If using Keras pass *_constraint arguments to layers.\n"
     ]
    },
    {
     "name": "stdout",
     "output_type": "stream",
     "text": [
      "Model: \"sequential\"\n",
      "_________________________________________________________________\n",
      "Layer (type)                 Output Shape              Param #   \n",
      "=================================================================\n",
      "keras_layer (KerasLayer)     multiple                  23853833  \n",
      "_________________________________________________________________\n",
      "dense (Dense)                multiple                  3006      \n",
      "=================================================================\n",
      "Total params: 23,856,839\n",
      "Trainable params: 3,006\n",
      "Non-trainable params: 23,853,833\n",
      "_________________________________________________________________\n"
     ]
    }
   ],
   "source": [
    "# Create a model and check its details\n",
    "model = create_model()\n",
    "model.summary()"
   ]
  },
  {
   "cell_type": "code",
   "execution_count": 9,
   "id": "4b64e1f2",
   "metadata": {},
   "outputs": [],
   "source": [
    "# Create early stopping (once our model stops improving, stop training)\n",
    "early_stopping = tf.keras.callbacks.EarlyStopping(monitor=\"val_acc\",\n",
    "                                                  patience=3) # stops after 3 rounds of no improvements"
   ]
  },
  {
   "cell_type": "code",
   "execution_count": 10,
   "id": "948b6958",
   "metadata": {},
   "outputs": [],
   "source": [
    "# How many rounds should we get the model to look through the data?\n",
    "NUM_EPOCHS = 100"
   ]
  },
  {
   "cell_type": "code",
   "execution_count": 11,
   "id": "c32b5ac4",
   "metadata": {},
   "outputs": [],
   "source": [
    "# Modify the train_model() function to return history\n",
    "def train_model():\n",
    "    \"\"\"\n",
    "    Trains a given model and returns the trained version.\n",
    "    \"\"\"\n",
    "    # Create a model\n",
    "    model = create_model()\n",
    "\n",
    "    # Fit the model to the data passing it the callbacks we created\n",
    "    history = model.fit(\n",
    "        x=train_data_generator,\n",
    "        epochs=NUM_EPOCHS,\n",
    "        validation_data=validation_data_generator,\n",
    "        validation_freq=1,  # check validation metrics every epoch\n",
    "        callbacks=[early_stopping]\n",
    "    )\n",
    "\n",
    "    return model, history\n"
   ]
  },
  {
   "cell_type": "code",
   "execution_count": null,
   "id": "27a78e26",
   "metadata": {},
   "outputs": [],
   "source": [
    "# Train the model and obtain the trained model and history\n",
    "model, history = train_model()"
   ]
  },
  {
   "cell_type": "code",
   "execution_count": null,
   "id": "fbd07403",
   "metadata": {},
   "outputs": [],
   "source": [
    "# Training accuracy history\n",
    "history.history['accuracy']"
   ]
  },
  {
   "cell_type": "code",
   "execution_count": null,
   "id": "883ddff3",
   "metadata": {},
   "outputs": [],
   "source": [
    "# Validation accuracy history\n",
    "history.history['val_accuracy']"
   ]
  },
  {
   "cell_type": "code",
   "execution_count": null,
   "id": "6a54146f",
   "metadata": {},
   "outputs": [],
   "source": [
    "# Access the training and validation accuracy from the history object\n",
    "train_acc = history.history['accuracy']\n",
    "val_acc = history.history['val_accuracy']\n",
    "\n",
    "# Plot the training and validation accuracy\n",
    "plt.plot(range(1, len(train_acc) + 1), train_acc, label='Training Accuracy')\n",
    "plt.plot(range(1, len(val_acc) + 1), val_acc, label='Validation Accuracy')\n",
    "plt.xlabel('Epoch')\n",
    "plt.ylabel('Accuracy')\n",
    "plt.title('Training and Validation Accuracy')\n",
    "plt.legend()\n",
    "plt.show()"
   ]
  },
  {
   "cell_type": "code",
   "execution_count": null,
   "id": "6468bbe1",
   "metadata": {},
   "outputs": [],
   "source": [
    "# Get the class labels\n",
    "class_labels = list(validation_data_generator.class_indices.keys())\n",
    "\n",
    "# Print the class labels\n",
    "print(class_labels)"
   ]
  },
  {
   "cell_type": "code",
   "execution_count": null,
   "id": "10d82774",
   "metadata": {},
   "outputs": [],
   "source": [
    "# Get the total number of samples in the validation dataset\n",
    "num_samples = len(validation_data_generator.filenames)\n",
    "\n",
    "# Get the batch size used in the generator\n",
    "batch_size = validation_data_generator.batch_size\n",
    "\n",
    "# Calculate the number of steps required to iterate through the entire dataset\n",
    "num_steps = int(np.ceil(num_samples / batch_size))\n",
    "\n",
    "# Initialize empty arrays to store the images and labels\n",
    "x_test = []\n",
    "y_true = []\n",
    "\n",
    "# Iterate through the generator to obtain the images and labels\n",
    "for _ in range(num_steps):\n",
    "    images, labels = validation_data_generator.next()\n",
    "    x_test.extend(images)\n",
    "    y_true.extend(np.argmax(labels, axis=1))\n",
    "\n",
    "# Convert the arrays to NumPy arrays\n",
    "x_test = np.array(x_test)\n",
    "y_true = np.array(y_true)"
   ]
  },
  {
   "cell_type": "code",
   "execution_count": null,
   "id": "bf826496",
   "metadata": {},
   "outputs": [],
   "source": [
    "# Get the predictions and convert predictions to class labels\n",
    "predictions = model.predict(x_test)\n",
    "y_pred = np.argmax(predictions, axis=1) "
   ]
  },
  {
   "cell_type": "code",
   "execution_count": null,
   "id": "28e2efc7",
   "metadata": {},
   "outputs": [],
   "source": [
    "# Load the confusion matrix\n",
    "cm = confusion_matrix(y_true, y_pred)"
   ]
  },
  {
   "cell_type": "code",
   "execution_count": null,
   "id": "76e8203d",
   "metadata": {},
   "outputs": [],
   "source": [
    "# Get the class labels\n",
    "class_labels = list(validation_data_generator.class_indices.keys())\n",
    "\n",
    "# Display the confusion matrix using Seaborn\n",
    "plt.figure(figsize=(8, 6))\n",
    "sns.heatmap(cm, annot=True, fmt=\"d\", cmap=\"Blues\", xticklabels=class_labels, yticklabels=class_labels)\n",
    "plt.xlabel(\"Predicted\")\n",
    "plt.ylabel(\"Actual\")\n",
    "plt.show()"
   ]
  },
  {
   "cell_type": "code",
   "execution_count": null,
   "id": "e54a5a0b",
   "metadata": {},
   "outputs": [],
   "source": [
    "#Print Precision, Recall, F-score\n",
    "print(classification_report(validation_data_generator.classes[validation_data_generator.index_array], y_pred))"
   ]
  },
  {
   "cell_type": "code",
   "execution_count": null,
   "id": "ccdc08b5",
   "metadata": {},
   "outputs": [],
   "source": [
    "# Get a batch of test images and their corresponding labels\n",
    "images, true_labels = validation_data_generator.next()\n",
    "\n",
    "# Convert the predicted probabilities to class labels\n",
    "predicted_labels = [class_labels[np.argmax(pred)] for pred in predictions]\n",
    "\n",
    "# Display the images with their labels\n",
    "num_samples = 5  # Number of samples to display\n",
    "fig, axes = plt.subplots(1, num_samples, figsize=(15, 3))\n",
    "\n",
    "for i in range(num_samples):\n",
    "    # Display the image\n",
    "    axes[i].imshow(images[i])\n",
    "    axes[i].axis('off')\n",
    "    \n",
    "    # Set the title with actual and predicted labels\n",
    "    actual_label = class_labels[np.argmax(true_labels[i])]\n",
    "    predicted_label = predicted_labels[i]\n",
    "    title = f\"Actual: {actual_label}\\nPredicted: {predicted_label}\"\n",
    "    axes[i].set_title(title)\n",
    "\n",
    "plt.tight_layout()\n",
    "plt.show()"
   ]
  },
  {
   "cell_type": "code",
   "execution_count": null,
   "id": "01b76a3f",
   "metadata": {},
   "outputs": [],
   "source": []
  },
  {
   "cell_type": "code",
   "execution_count": null,
   "id": "4c8f8677",
   "metadata": {},
   "outputs": [],
   "source": []
  },
  {
   "cell_type": "code",
   "execution_count": null,
   "id": "65fe3783",
   "metadata": {},
   "outputs": [],
   "source": []
  }
 ],
 "metadata": {
  "kernelspec": {
   "display_name": "ML_Env",
   "language": "python",
   "name": "ml_work"
  },
  "language_info": {
   "codemirror_mode": {
    "name": "ipython",
    "version": 3
   },
   "file_extension": ".py",
   "mimetype": "text/x-python",
   "name": "python",
   "nbconvert_exporter": "python",
   "pygments_lexer": "ipython3",
   "version": "3.6.13"
  }
 },
 "nbformat": 4,
 "nbformat_minor": 5
}
